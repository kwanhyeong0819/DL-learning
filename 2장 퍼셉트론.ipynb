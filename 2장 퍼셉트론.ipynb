{
 "cells": [
  {
   "cell_type": "code",
   "execution_count": 1,
   "id": "ad9e1d04",
   "metadata": {},
   "outputs": [],
   "source": [
    "import pandas as pd\n",
    "import numpy as np\n",
    "import matplotlib.pyplot as plt\n",
    "import seaborn as sns"
   ]
  },
  {
   "cell_type": "markdown",
   "id": "131ac878",
   "metadata": {},
   "source": [
    "### 퍼셉트론 구현"
   ]
  },
  {
   "cell_type": "code",
   "execution_count": 2,
   "id": "33053ea4",
   "metadata": {},
   "outputs": [],
   "source": [
    "#AND\n",
    "def AND(x1 , x2):\n",
    "    w1, w2, theta = 0.5, 0.5, 0.7\n",
    "    tmp = x1*w1 + x2*w2\n",
    "    if tmp <=theta:\n",
    "        return 0\n",
    "    elif tmp > theta:\n",
    "        return 1"
   ]
  },
  {
   "cell_type": "code",
   "execution_count": 3,
   "id": "c871b5b5",
   "metadata": {},
   "outputs": [
    {
     "name": "stdout",
     "output_type": "stream",
     "text": [
      "출력값은: 0\n",
      "출력값은: 0\n",
      "출력값은: 1\n",
      "출력값은: 0\n"
     ]
    }
   ],
   "source": [
    "and_list=np.array([0,1])\n",
    "for i in and_list:\n",
    "    a1 = AND(1, i) #1,0 1,1\n",
    "    a2 = AND(0, i) #0,0 0,1일때 값들\n",
    "    print('출력값은:', a1)\n",
    "    print('출력값은:', a2) #처음 내가 생각한 것"
   ]
  },
  {
   "cell_type": "code",
   "execution_count": 4,
   "id": "7cf08708",
   "metadata": {},
   "outputs": [
    {
     "ename": "TypeError",
     "evalue": "array() takes from 1 to 2 positional arguments but 4 were given",
     "output_type": "error",
     "traceback": [
      "\u001b[1;31m---------------------------------------------------------------------------\u001b[0m",
      "\u001b[1;31mTypeError\u001b[0m                                 Traceback (most recent call last)",
      "\u001b[1;32m~\\AppData\\Local\\Temp\\ipykernel_16624\\3307210352.py\u001b[0m in \u001b[0;36m<module>\u001b[1;34m\u001b[0m\n\u001b[0;32m      1\u001b[0m \u001b[1;31m#강의 시 좋은 방법\u001b[0m\u001b[1;33m\u001b[0m\u001b[1;33m\u001b[0m\u001b[0m\n\u001b[1;32m----> 2\u001b[1;33m \u001b[0mand_list\u001b[0m \u001b[1;33m=\u001b[0m \u001b[0mnp\u001b[0m\u001b[1;33m.\u001b[0m\u001b[0marray\u001b[0m\u001b[1;33m(\u001b[0m\u001b[1;33m[\u001b[0m\u001b[1;36m0\u001b[0m\u001b[1;33m,\u001b[0m\u001b[1;36m0\u001b[0m\u001b[1;33m]\u001b[0m\u001b[1;33m,\u001b[0m \u001b[1;33m[\u001b[0m\u001b[1;36m0\u001b[0m\u001b[1;33m,\u001b[0m\u001b[1;36m1\u001b[0m\u001b[1;33m]\u001b[0m\u001b[1;33m,\u001b[0m \u001b[1;33m[\u001b[0m\u001b[1;36m1\u001b[0m\u001b[1;33m,\u001b[0m\u001b[1;36m0\u001b[0m\u001b[1;33m]\u001b[0m\u001b[1;33m,\u001b[0m \u001b[1;33m[\u001b[0m\u001b[1;36m0\u001b[0m\u001b[1;33m,\u001b[0m\u001b[1;36m0\u001b[0m\u001b[1;33m]\u001b[0m\u001b[1;33m)\u001b[0m \u001b[1;31m#오류 수정 필요 2차원 어레이로 만들기\u001b[0m\u001b[1;33m\u001b[0m\u001b[1;33m\u001b[0m\u001b[0m\n\u001b[0m\u001b[0;32m      3\u001b[0m \u001b[1;32mfor\u001b[0m \u001b[0mi\u001b[0m \u001b[1;32min\u001b[0m \u001b[0mand_list\u001b[0m\u001b[1;33m:\u001b[0m\u001b[1;33m\u001b[0m\u001b[1;33m\u001b[0m\u001b[0m\n\u001b[0;32m      4\u001b[0m     \u001b[0my\u001b[0m \u001b[1;33m=\u001b[0m \u001b[0mAND\u001b[0m\u001b[1;33m(\u001b[0m\u001b[0mi\u001b[0m\u001b[1;33m[\u001b[0m\u001b[1;36m0\u001b[0m\u001b[1;33m]\u001b[0m\u001b[1;33m,\u001b[0m \u001b[0mi\u001b[0m\u001b[1;33m[\u001b[0m\u001b[1;36m1\u001b[0m\u001b[1;33m]\u001b[0m\u001b[1;33m)\u001b[0m\u001b[1;33m\u001b[0m\u001b[1;33m\u001b[0m\u001b[0m\n\u001b[0;32m      5\u001b[0m     \u001b[0mprint\u001b[0m\u001b[1;33m(\u001b[0m\u001b[0mstr\u001b[0m\u001b[1;33m(\u001b[0m\u001b[0mi\u001b[0m\u001b[1;33m)\u001b[0m\u001b[1;33m,\u001b[0m \u001b[1;34m'->'\u001b[0m\u001b[1;33m,\u001b[0m \u001b[0mstr\u001b[0m\u001b[1;33m(\u001b[0m\u001b[0my\u001b[0m\u001b[1;33m)\u001b[0m\u001b[1;33m)\u001b[0m \u001b[1;31m#이렇게는 또 오류가 발생하네\u001b[0m\u001b[1;33m\u001b[0m\u001b[1;33m\u001b[0m\u001b[0m\n",
      "\u001b[1;31mTypeError\u001b[0m: array() takes from 1 to 2 positional arguments but 4 were given"
     ]
    }
   ],
   "source": [
    "#강의 시 좋은 방법\n",
    "and_list = np.array([0,0], [0,1], [1,0], [0,0]) #오류 수정 필요 2차원 어레이로 만들기\n",
    "for i in and_list:\n",
    "    y = AND(i[0], i[1])\n",
    "    print(str(i), '->', str(y)) #이렇게는 또 오류가 발생하네"
   ]
  },
  {
   "cell_type": "code",
   "execution_count": 5,
   "id": "98640317",
   "metadata": {},
   "outputs": [
    {
     "name": "stdout",
     "output_type": "stream",
     "text": [
      "(0, 0) -> 0\n",
      "(0, 1) -> 0\n",
      "(1, 0) -> 0\n",
      "(1, 1) -> 1\n"
     ]
    }
   ],
   "source": [
    "#강의 시 좋은 방법\n",
    "and_list = [(0,0), (0,1), (1,0), (1,1)]\n",
    "for i in and_list:\n",
    "    y = AND(i[0], i[1])\n",
    "    print(str(i), '->', str(y))"
   ]
  },
  {
   "cell_type": "code",
   "execution_count": 6,
   "id": "65f2b5e5",
   "metadata": {},
   "outputs": [
    {
     "name": "stdout",
     "output_type": "stream",
     "text": [
      "[0, 0, 0, 1]\n"
     ]
    }
   ],
   "source": [
    "and_list = np.array([[0,0], [0,1], [1,0], [1,1]])\n",
    "Y=[]\n",
    "for i in and_list:\n",
    "    y = AND(i[0], i[1])\n",
    "    Y.append(y)\n",
    "print(Y) #값들 리스트에 담기"
   ]
  },
  {
   "cell_type": "code",
   "execution_count": 7,
   "id": "0f134011",
   "metadata": {},
   "outputs": [],
   "source": [
    "x1 = [0,1] *2\n",
    "x2 = [0, 0, 1, 1]"
   ]
  },
  {
   "cell_type": "code",
   "execution_count": 8,
   "id": "da361990",
   "metadata": {},
   "outputs": [
    {
     "data": {
      "text/html": [
       "<div>\n",
       "<style scoped>\n",
       "    .dataframe tbody tr th:only-of-type {\n",
       "        vertical-align: middle;\n",
       "    }\n",
       "\n",
       "    .dataframe tbody tr th {\n",
       "        vertical-align: top;\n",
       "    }\n",
       "\n",
       "    .dataframe thead th {\n",
       "        text-align: right;\n",
       "    }\n",
       "</style>\n",
       "<table border=\"1\" class=\"dataframe\">\n",
       "  <thead>\n",
       "    <tr style=\"text-align: right;\">\n",
       "      <th></th>\n",
       "      <th></th>\n",
       "      <th>y</th>\n",
       "    </tr>\n",
       "    <tr>\n",
       "      <th>x1</th>\n",
       "      <th>x2</th>\n",
       "      <th></th>\n",
       "    </tr>\n",
       "  </thead>\n",
       "  <tbody>\n",
       "    <tr>\n",
       "      <th>0</th>\n",
       "      <th>0</th>\n",
       "      <td>0</td>\n",
       "    </tr>\n",
       "    <tr>\n",
       "      <th>1</th>\n",
       "      <th>0</th>\n",
       "      <td>0</td>\n",
       "    </tr>\n",
       "    <tr>\n",
       "      <th>0</th>\n",
       "      <th>1</th>\n",
       "      <td>0</td>\n",
       "    </tr>\n",
       "    <tr>\n",
       "      <th>1</th>\n",
       "      <th>1</th>\n",
       "      <td>1</td>\n",
       "    </tr>\n",
       "  </tbody>\n",
       "</table>\n",
       "</div>"
      ],
      "text/plain": [
       "       y\n",
       "x1 x2   \n",
       "0  0   0\n",
       "1  0   0\n",
       "0  1   0\n",
       "1  1   1"
      ]
     },
     "execution_count": 8,
     "metadata": {},
     "output_type": "execute_result"
    }
   ],
   "source": [
    "#로직 데이터 프레임으로 구현\n",
    "AND_df=pd.DataFrame({\n",
    "    'x1' : x1,\n",
    "    'x2' : x2,\n",
    "    'y' : Y\n",
    "})\n",
    "AND_df = AND_df.set_index(['x1', 'x2'])\n",
    "AND_df"
   ]
  },
  {
   "cell_type": "code",
   "execution_count": 9,
   "id": "a8e3d5fd",
   "metadata": {},
   "outputs": [
    {
     "data": {
      "image/png": "[encoded data removed]",
      "text/plain": [
       "<Figure size 800x600 with 1 Axes>"
      ]
     },
     "metadata": {},
     "output_type": "display_data"
    }
   ],
   "source": [
    "#시각화 구현\n",
    "plt.figure(figsize=(8,6))\n",
    "plt.scatter(x=0, y=0, color = 'b', edgecolor='b', marker='o')\n",
    "plt.scatter(x=0, y=1, color = 'b', edgecolor='b', marker='o')\n",
    "plt.scatter(x=1, y=0, color='b', edgecolor='b')\n",
    "plt.scatter(x=1, y=1, color = 'r', edgecolors='r', marker = 's')\n",
    "plt.xticks(np.arange(0,3,1))\n",
    "plt.yticks(np.arange(0,3,1))\n",
    "plt.show()\n",
    "#위의 데이터 프레임을 봤을 때 1,1만 출력됨. 그렇게 만드는 직선은 어떻게 만들까? 여러가지 가능 #어떻게 4사분면 코드를 이렇게 작성함?"
   ]
  },
  {
   "cell_type": "code",
   "execution_count": 80,
   "id": "fb7378fb",
   "metadata": {},
   "outputs": [
    {
     "data": {
      "image/png": "[encoded data removed]",
      "text/plain": [
       "<Figure size 800x600 with 1 Axes>"
      ]
     },
     "metadata": {},
     "output_type": "display_data"
    }
   ],
   "source": [
    "w1 = 0.5\n",
    "w2 = 0.5\n",
    "b = -1*0.7\n",
    "#파라미터 처럼 모델을 보고 조정하는 값\n",
    "x1 = np.arange(0, 1.5 ,0.1) \n",
    "# b+w1*x1 + w2*x2 =0\n",
    "x2 = (-0.5*x1 + 0.7)/0.5 #이항\n",
    "#시각화 구현\n",
    "plt.figure(figsize=(8,6))\n",
    "plt.scatter(x=0, y=0, color = 'b', edgecolor='b', marker='o')\n",
    "plt.scatter(x=0, y=1, color = 'b', edgecolor='b', marker='o')\n",
    "plt.scatter(x=1, y=0, color='b', edgecolor='b')\n",
    "plt.scatter(x=1, y=1, color = 'r', edgecolors='r', marker = 's')\n",
    "x = np.arange(0, 10, 0.1)\n",
    "plt.fill_between(x1, x2, np.max(y),\n",
    "                 color=\"skyblue\", alpha=0.4)\n",
    "\n",
    "plt.plot(x1, x2, linestyle = '--', color = 'g')\n",
    "plt.xticks(np.arange(0,3,1))\n",
    "plt.yticks(np.arange(0,3,1))\n",
    "plt.grid()\n",
    "plt.show()\n",
    "#위의 데이터 프레임을 봤을 때 1,1만 출력됨. 그렇게 만드는 직선은 어떻게 만들까? 여러가지 가능 #어떻게 4사분면 코드를 이렇게 작성함?\n",
    "#부등호 영역 시각화 어케함 이것도 이상함."
   ]
  },
  {
   "cell_type": "code",
   "execution_count": null,
   "id": "9e2bcb0f",
   "metadata": {},
   "outputs": [],
   "source": []
  },
  {
   "cell_type": "code",
   "execution_count": 32,
   "id": "2560c2cc",
   "metadata": {},
   "outputs": [],
   "source": [
    "#NAND\n",
    "#가중치와 편향 도입\n",
    "def NAND(x1, x2):\n",
    "    x = np.array([x1, x2])\n",
    "    w = np.array([-0.5, -0.5]) #이렇게 표현해도 가능\n",
    "    b = 0.7 #NAND는 가중치 편향에 -1곱한것과 같음\n",
    "    tmp = np.sum(x*w) + b #브로드 캐스트로 쉽게 가능\n",
    "    if tmp<=0:\n",
    "        return 0\n",
    "    else:\n",
    "        return 1"
   ]
  },
  {
   "cell_type": "code",
   "execution_count": 42,
   "id": "b3e83cd7",
   "metadata": {},
   "outputs": [],
   "source": [
    "#OR\n",
    "def OR(x1, x2):\n",
    "    x = np.array([x1, x2])\n",
    "    w = np.array([0.5, 0.5])\n",
    "    b = -0.2 #NAND는 가중치 편향에 -1곱한것과 같음\n",
    "    tmp = np.sum(x*w) + b #브로드 캐스트로 쉽게 가능\n",
    "    if tmp<=0:\n",
    "        return 0\n",
    "    else:\n",
    "        return 1"
   ]
  },
  {
   "cell_type": "code",
   "execution_count": null,
   "id": "e2d13b5f",
   "metadata": {},
   "outputs": [],
   "source": []
  },
  {
   "cell_type": "code",
   "execution_count": 50,
   "id": "56a55960",
   "metadata": {},
   "outputs": [
    {
     "name": "stdout",
     "output_type": "stream",
     "text": [
      "(0, 0) -> 1\n",
      "(0, 1) -> 1\n",
      "(1, 0) -> 1\n",
      "(1, 1) -> 0\n"
     ]
    }
   ],
   "source": [
    "#NAND\n",
    "and_list = [(0,0), (0,1), (1,0), (1,1)]\n",
    "for i in and_list:\n",
    "    y = NAND(i[0], i[1])\n",
    "    print(str(i), '->', str(y))"
   ]
  },
  {
   "cell_type": "code",
   "execution_count": 51,
   "id": "abc5d45e",
   "metadata": {},
   "outputs": [
    {
     "name": "stdout",
     "output_type": "stream",
     "text": [
      "[1, 1, 1, 0]\n"
     ]
    }
   ],
   "source": [
    "and_list = np.array([[0,0], [0,1], [1,0], [1,1]])\n",
    "Y=[]\n",
    "for i in and_list:\n",
    "    y = NAND(i[0], i[1])\n",
    "    Y.append(y)\n",
    "print(Y) #값들 리스트에 담기"
   ]
  },
  {
   "cell_type": "code",
   "execution_count": 52,
   "id": "48027500",
   "metadata": {},
   "outputs": [],
   "source": [
    "x1 = [0,1] *2\n",
    "x2 = [0, 0, 1, 1]"
   ]
  },
  {
   "cell_type": "code",
   "execution_count": 53,
   "id": "253ccaba",
   "metadata": {},
   "outputs": [
    {
     "data": {
      "text/html": [
       "<div>\n",
       "<style scoped>\n",
       "    .dataframe tbody tr th:only-of-type {\n",
       "        vertical-align: middle;\n",
       "    }\n",
       "\n",
       "    .dataframe tbody tr th {\n",
       "        vertical-align: top;\n",
       "    }\n",
       "\n",
       "    .dataframe thead th {\n",
       "        text-align: right;\n",
       "    }\n",
       "</style>\n",
       "<table border=\"1\" class=\"dataframe\">\n",
       "  <thead>\n",
       "    <tr style=\"text-align: right;\">\n",
       "      <th></th>\n",
       "      <th></th>\n",
       "      <th>y</th>\n",
       "    </tr>\n",
       "    <tr>\n",
       "      <th>x1</th>\n",
       "      <th>x2</th>\n",
       "      <th></th>\n",
       "    </tr>\n",
       "  </thead>\n",
       "  <tbody>\n",
       "    <tr>\n",
       "      <th>0</th>\n",
       "      <th>0</th>\n",
       "      <td>1</td>\n",
       "    </tr>\n",
       "    <tr>\n",
       "      <th>1</th>\n",
       "      <th>0</th>\n",
       "      <td>1</td>\n",
       "    </tr>\n",
       "    <tr>\n",
       "      <th>0</th>\n",
       "      <th>1</th>\n",
       "      <td>1</td>\n",
       "    </tr>\n",
       "    <tr>\n",
       "      <th>1</th>\n",
       "      <th>1</th>\n",
       "      <td>0</td>\n",
       "    </tr>\n",
       "  </tbody>\n",
       "</table>\n",
       "</div>"
      ],
      "text/plain": [
       "       y\n",
       "x1 x2   \n",
       "0  0   1\n",
       "1  0   1\n",
       "0  1   1\n",
       "1  1   0"
      ]
     },
     "execution_count": 53,
     "metadata": {},
     "output_type": "execute_result"
    }
   ],
   "source": [
    "NAND_df=pd.DataFrame({\n",
    "    'x1' : x1,\n",
    "    'x2' : x2,\n",
    "    'y' : Y\n",
    "})\n",
    "NAND_df = NAND_df.set_index(['x1', 'x2'])\n",
    "NAND_df"
   ]
  },
  {
   "cell_type": "code",
   "execution_count": 79,
   "id": "715afee2",
   "metadata": {},
   "outputs": [
    {
     "data": {
      "image/png": "[encoded data removed]",
      "text/plain": [
       "<Figure size 800x600 with 1 Axes>"
      ]
     },
     "metadata": {},
     "output_type": "display_data"
    }
   ],
   "source": [
    "w1 = -0.5\n",
    "w2 = -0.5\n",
    "b = 0.7\n",
    "#파라미터 처럼 모델을 보고 조정하는 값\n",
    "x1 = np.arange(0, 1.5 ,0.1) \n",
    "# b+w1*x1 + w2*x2 =0\n",
    "x2 = (0.5*x1 -0.7)/0.5*(-1) #이항 #역치기 때문에 -1곱하나 안곱하나 그래프는 똑같아\n",
    "#시각화 구현\n",
    "plt.figure(figsize=(8,6))\n",
    "plt.scatter(x=0, y=0, color = 'r', edgecolor='k', marker='s')\n",
    "plt.scatter(x=0, y=1, color = 'r', edgecolor='k', marker='s')\n",
    "plt.scatter(x=1, y=0, color='r', edgecolor='k', marker= 's')\n",
    "plt.scatter(x=1, y=1, color = 'b', edgecolors='b', marker = 'o')\n",
    "\n",
    "plt.fill_between(x1, x2,\n",
    "                 color=\"skyblue\", alpha=0.4)\n",
    "\n",
    "plt.plot(x1, x2, linestyle = '--', color = 'g')\n",
    "plt.xticks(np.arange(0,3,1))\n",
    "plt.yticks(np.arange(0,3,1))\n",
    "plt.grid()\n",
    "plt.show()\n",
    "#위의 데이터 프레임을 봤을 때 1,1만 출력됨. 그렇게 만드는 직선은 어떻게 만들까? 여러가지 가능 #어떻게 4사분면 코드를 이렇게 작성함?\n",
    "#부등호 영역 시각화 어케함 이것도 이상함."
   ]
  },
  {
   "cell_type": "code",
   "execution_count": null,
   "id": "a3854866",
   "metadata": {},
   "outputs": [],
   "source": []
  },
  {
   "cell_type": "code",
   "execution_count": 57,
   "id": "21b29f89",
   "metadata": {},
   "outputs": [
    {
     "name": "stdout",
     "output_type": "stream",
     "text": [
      "(0, 0) -> 0\n",
      "(0, 1) -> 1\n",
      "(1, 0) -> 1\n",
      "(1, 1) -> 1\n"
     ]
    }
   ],
   "source": [
    "#NAND\n",
    "and_list = [(0,0), (0,1), (1,0), (1,1)]\n",
    "for i in and_list:\n",
    "    y = OR(i[0], i[1])\n",
    "    print(str(i), '->', str(y))"
   ]
  },
  {
   "cell_type": "code",
   "execution_count": 59,
   "id": "41229401",
   "metadata": {},
   "outputs": [
    {
     "name": "stdout",
     "output_type": "stream",
     "text": [
      "[0, 1, 1, 1]\n"
     ]
    }
   ],
   "source": [
    "and_list = np.array([[0,0], [0,1], [1,0], [1,1]])\n",
    "Y=[]\n",
    "for i in and_list:\n",
    "    y = OR(i[0], i[1])\n",
    "    Y.append(y)\n",
    "print(Y) #값들 리스트에 담기"
   ]
  },
  {
   "cell_type": "code",
   "execution_count": 60,
   "id": "241acc98",
   "metadata": {},
   "outputs": [],
   "source": [
    "x1 = [0,1] *2\n",
    "x2 = [0, 0, 1, 1]"
   ]
  },
  {
   "cell_type": "code",
   "execution_count": 61,
   "id": "08decbfb",
   "metadata": {},
   "outputs": [
    {
     "data": {
      "text/html": [
       "<div>\n",
       "<style scoped>\n",
       "    .dataframe tbody tr th:only-of-type {\n",
       "        vertical-align: middle;\n",
       "    }\n",
       "\n",
       "    .dataframe tbody tr th {\n",
       "        vertical-align: top;\n",
       "    }\n",
       "\n",
       "    .dataframe thead th {\n",
       "        text-align: right;\n",
       "    }\n",
       "</style>\n",
       "<table border=\"1\" class=\"dataframe\">\n",
       "  <thead>\n",
       "    <tr style=\"text-align: right;\">\n",
       "      <th></th>\n",
       "      <th></th>\n",
       "      <th>y</th>\n",
       "    </tr>\n",
       "    <tr>\n",
       "      <th>x1</th>\n",
       "      <th>x2</th>\n",
       "      <th></th>\n",
       "    </tr>\n",
       "  </thead>\n",
       "  <tbody>\n",
       "    <tr>\n",
       "      <th>0</th>\n",
       "      <th>0</th>\n",
       "      <td>0</td>\n",
       "    </tr>\n",
       "    <tr>\n",
       "      <th>1</th>\n",
       "      <th>0</th>\n",
       "      <td>1</td>\n",
       "    </tr>\n",
       "    <tr>\n",
       "      <th>0</th>\n",
       "      <th>1</th>\n",
       "      <td>1</td>\n",
       "    </tr>\n",
       "    <tr>\n",
       "      <th>1</th>\n",
       "      <th>1</th>\n",
       "      <td>1</td>\n",
       "    </tr>\n",
       "  </tbody>\n",
       "</table>\n",
       "</div>"
      ],
      "text/plain": [
       "       y\n",
       "x1 x2   \n",
       "0  0   0\n",
       "1  0   1\n",
       "0  1   1\n",
       "1  1   1"
      ]
     },
     "execution_count": 61,
     "metadata": {},
     "output_type": "execute_result"
    }
   ],
   "source": [
    "OR_df=NAND_df.drop('y', axis=1)\n",
    "OR_df['y'] = Y\n",
    "OR_df"
   ]
  },
  {
   "cell_type": "code",
   "execution_count": 81,
   "id": "df144b63",
   "metadata": {},
   "outputs": [
    {
     "data": {
      "image/png": "[encoded data removed]",
      "text/plain": [
       "<Figure size 800x600 with 1 Axes>"
      ]
     },
     "metadata": {},
     "output_type": "display_data"
    }
   ],
   "source": [
    "w1 = 0.5\n",
    "w2 = 0.5\n",
    "b = -0.2\n",
    "#파라미터 처럼 모델을 보고 조정하는 값\n",
    "x1 = np.arange(0, 2 ,0.1) \n",
    "# b+w1*x1 + w2*x2 =0\n",
    "x2 = (-0.5*x1 +0.2)/0.5 #이항 #역치기 때문에 -1곱하나 안곱하나 그래프는 똑같아\n",
    "#시각화 구현\n",
    "plt.figure(figsize=(8,6))\n",
    "plt.scatter(x=0, y=0, color = 'b', edgecolor='g', marker='o')\n",
    "plt.scatter(x=0, y=1, color = 'r', edgecolor='k', marker='s')\n",
    "plt.scatter(x=1, y=0, color='r', edgecolor='k', marker='s')\n",
    "plt.scatter(x=1, y=1, color = 'r', edgecolors='k', marker = 's')\n",
    "\n",
    "plt.fill_between(x1, x2,np.max(y),\n",
    "                 color=\"skyblue\", alpha=0.4)\n",
    "\n",
    "plt.plot(x1, x2, linestyle = '--', color = 'g')\n",
    "plt.xticks(np.arange(0,3,1))\n",
    "plt.yticks(np.arange(0,3,1))\n",
    "plt.grid()\n",
    "plt.show()\n",
    "#위의 데이터 프레임을 봤을 때 1,1만 출력됨. 그렇게 만드는 직선은 어떻게 만들까? 여러가지 가능 #어떻게 4사분면 코드를 이렇게 작성함?\n",
    "#부등호 영역 시각화 어케함 이것도 이상함."
   ]
  },
  {
   "cell_type": "code",
   "execution_count": null,
   "id": "e499e3d4",
   "metadata": {},
   "outputs": [],
   "source": []
  },
  {
   "cell_type": "code",
   "execution_count": null,
   "id": "ce391515",
   "metadata": {},
   "outputs": [],
   "source": []
  },
  {
   "cell_type": "code",
   "execution_count": null,
   "id": "08d64ea0",
   "metadata": {},
   "outputs": [],
   "source": []
  },
  {
   "cell_type": "code",
   "execution_count": null,
   "id": "8594c349",
   "metadata": {},
   "outputs": [],
   "source": []
  },
  {
   "cell_type": "code",
   "execution_count": null,
   "id": "50989419",
   "metadata": {},
   "outputs": [],
   "source": []
  },
  {
   "cell_type": "code",
   "execution_count": null,
   "id": "c18e2164",
   "metadata": {},
   "outputs": [],
   "source": []
  },
  {
   "cell_type": "code",
   "execution_count": null,
   "id": "e78c2dc3",
   "metadata": {},
   "outputs": [],
   "source": []
  },
  {
   "cell_type": "code",
   "execution_count": null,
   "id": "b0f27430",
   "metadata": {},
   "outputs": [],
   "source": []
  },
  {
   "cell_type": "code",
   "execution_count": null,
   "id": "937f649d",
   "metadata": {},
   "outputs": [],
   "source": []
  },
  {
   "cell_type": "code",
   "execution_count": null,
   "id": "c7d90e0e",
   "metadata": {},
   "outputs": [],
   "source": []
  },
  {
   "cell_type": "code",
   "execution_count": null,
   "id": "2b38e8e2",
   "metadata": {},
   "outputs": [],
   "source": []
  },
  {
   "cell_type": "code",
   "execution_count": null,
   "id": "254aab41",
   "metadata": {},
   "outputs": [],
   "source": []
  },
  {
   "cell_type": "code",
   "execution_count": null,
   "id": "05a91af0",
   "metadata": {},
   "outputs": [],
   "source": []
  },
  {
   "cell_type": "code",
   "execution_count": null,
   "id": "77b31d6e",
   "metadata": {},
   "outputs": [],
   "source": []
  },
  {
   "cell_type": "code",
   "execution_count": null,
   "id": "21040aff",
   "metadata": {},
   "outputs": [],
   "source": []
  },
  {
   "cell_type": "code",
   "execution_count": null,
   "id": "f2e6e55d",
   "metadata": {},
   "outputs": [],
   "source": []
  },
  {
   "cell_type": "code",
   "execution_count": null,
   "id": "a85ed1ff",
   "metadata": {},
   "outputs": [],
   "source": []
  }
 ],
 "metadata": {
  "kernelspec": {
   "display_name": "Python 3 (ipykernel)",
   "language": "python",
   "name": "python3"
  },
  "language_info": {
   "codemirror_mode": {
    "name": "ipython",
    "version": 3
   },
   "file_extension": ".py",
   "mimetype": "text/x-python",
   "name": "python",
   "nbconvert_exporter": "python",
   "pygments_lexer": "ipython3",
   "version": "3.9.13"
  }
 },
 "nbformat": 4,
 "nbformat_minor": 5
}
